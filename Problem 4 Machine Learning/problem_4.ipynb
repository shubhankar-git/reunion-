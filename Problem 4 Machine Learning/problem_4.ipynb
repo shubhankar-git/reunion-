{
 "cells": [
  {
   "cell_type": "code",
   "execution_count": 1,
   "metadata": {},
   "outputs": [],
   "source": [
    "import pandas as pd\n",
    "import numpy as np\n",
    "import seaborn as sns\n",
    "import matplotlib.pyplot as plt\n",
    "from sklearn.preprocessing import StandardScaler\n",
    "from sklearn.cluster import KMeans\n",
    "from sklearn.tree import DecisionTreeClassifier\n",
    "from sklearn.metrics import classification_report\n",
    "\n",
    "\n"
   ]
  },
  {
   "cell_type": "code",
   "execution_count": 39,
   "metadata": {},
   "outputs": [],
   "source": [
    "applicants = pd.read_csv('applicant.csv')\n",
    "loans = pd.read_csv('loan.csv')\n"
   ]
  },
  {
   "cell_type": "code",
   "execution_count": 185,
   "metadata": {},
   "outputs": [],
   "source": [
    "# Merge datasets on applicant_id\n",
    "data = pd.merge(applicants, loans, on='applicant_id')"
   ]
  },
  {
   "cell_type": "code",
   "execution_count": 41,
   "metadata": {},
   "outputs": [
    {
     "name": "stdout",
     "output_type": "stream",
     "text": [
      "applicant_id                                                  0\n",
      "Primary_applicant_age_in_years                                0\n",
      "Gender                                                        0\n",
      "Marital_status                                                0\n",
      "Number_of_dependents                                          0\n",
      "Housing                                                       0\n",
      "Years_at_current_residence                                    0\n",
      "Employment_status                                             0\n",
      "Has_been_employed_for_at_least                               62\n",
      "Has_been_employed_for_at_most                               253\n",
      "Telephone                                                   596\n",
      "Foreign_worker                                                0\n",
      "Savings_account_balance                                     183\n",
      "Balance_in_existing_bank_account_(lower_limit_of_bucket)    668\n",
      "Balance_in_existing_bank_account_(upper_limit_of_bucket)    457\n",
      "loan_application_id                                           0\n",
      "Months_loan_taken_for                                         0\n",
      "Purpose                                                      12\n",
      "Principal_loan_amount                                         0\n",
      "EMI_rate_in_percentage_of_disposable_income                   0\n",
      "Property                                                    154\n",
      "Has_coapplicant                                               0\n",
      "Has_guarantor                                                 0\n",
      "Other_EMI_plans                                             814\n",
      "Number_of_existing_loans_at_this_bank                         0\n",
      "Loan_history                                                  0\n",
      "high_risk_applicant                                           0\n",
      "dtype: int64\n"
     ]
    }
   ],
   "source": [
    "null_counts = data.isnull().sum()\n",
    "print(null_counts)"
   ]
  },
  {
   "cell_type": "code",
   "execution_count": 42,
   "metadata": {},
   "outputs": [
    {
     "data": {
      "text/plain": [
       "(1000, 27)"
      ]
     },
     "execution_count": 42,
     "metadata": {},
     "output_type": "execute_result"
    }
   ],
   "source": [
    "data.shape"
   ]
  },
  {
   "cell_type": "code",
   "execution_count": 186,
   "metadata": {},
   "outputs": [],
   "source": [
    "# Drop columns with more than 200 null values\n",
    "data.dropna(thresh=len(data)-200, axis=1, inplace=True)\n",
    "\n",
    "# Drop rows with null values in a specific column\n",
    "data.dropna(inplace=True)"
   ]
  },
  {
   "cell_type": "code",
   "execution_count": 44,
   "metadata": {},
   "outputs": [
    {
     "data": {
      "text/plain": [
       "applicant_id                                   0\n",
       "Primary_applicant_age_in_years                 0\n",
       "Gender                                         0\n",
       "Marital_status                                 0\n",
       "Number_of_dependents                           0\n",
       "Housing                                        0\n",
       "Years_at_current_residence                     0\n",
       "Employment_status                              0\n",
       "Has_been_employed_for_at_least                 0\n",
       "Foreign_worker                                 0\n",
       "Savings_account_balance                        0\n",
       "loan_application_id                            0\n",
       "Months_loan_taken_for                          0\n",
       "Purpose                                        0\n",
       "Principal_loan_amount                          0\n",
       "EMI_rate_in_percentage_of_disposable_income    0\n",
       "Property                                       0\n",
       "Has_coapplicant                                0\n",
       "Has_guarantor                                  0\n",
       "Number_of_existing_loans_at_this_bank          0\n",
       "Loan_history                                   0\n",
       "high_risk_applicant                            0\n",
       "dtype: int64"
      ]
     },
     "execution_count": 44,
     "metadata": {},
     "output_type": "execute_result"
    }
   ],
   "source": [
    "data.isnull().sum()\n"
   ]
  },
  {
   "cell_type": "code",
   "execution_count": 45,
   "metadata": {},
   "outputs": [
    {
     "data": {
      "text/plain": [
       "(654, 22)"
      ]
     },
     "execution_count": 45,
     "metadata": {},
     "output_type": "execute_result"
    }
   ],
   "source": [
    "data.shape"
   ]
  },
  {
   "cell_type": "code",
   "execution_count": 46,
   "metadata": {},
   "outputs": [
    {
     "data": {
      "text/html": [
       "<div>\n",
       "<style scoped>\n",
       "    .dataframe tbody tr th:only-of-type {\n",
       "        vertical-align: middle;\n",
       "    }\n",
       "\n",
       "    .dataframe tbody tr th {\n",
       "        vertical-align: top;\n",
       "    }\n",
       "\n",
       "    .dataframe thead th {\n",
       "        text-align: right;\n",
       "    }\n",
       "</style>\n",
       "<table border=\"1\" class=\"dataframe\">\n",
       "  <thead>\n",
       "    <tr style=\"text-align: right;\">\n",
       "      <th></th>\n",
       "      <th>applicant_id</th>\n",
       "      <th>Primary_applicant_age_in_years</th>\n",
       "      <th>Number_of_dependents</th>\n",
       "      <th>Years_at_current_residence</th>\n",
       "      <th>Foreign_worker</th>\n",
       "      <th>Months_loan_taken_for</th>\n",
       "      <th>Principal_loan_amount</th>\n",
       "      <th>EMI_rate_in_percentage_of_disposable_income</th>\n",
       "      <th>Has_coapplicant</th>\n",
       "      <th>Has_guarantor</th>\n",
       "      <th>Number_of_existing_loans_at_this_bank</th>\n",
       "      <th>high_risk_applicant</th>\n",
       "    </tr>\n",
       "  </thead>\n",
       "  <tbody>\n",
       "    <tr>\n",
       "      <th>count</th>\n",
       "      <td>6.540000e+02</td>\n",
       "      <td>654.000000</td>\n",
       "      <td>654.000000</td>\n",
       "      <td>654.000000</td>\n",
       "      <td>654.000000</td>\n",
       "      <td>654.000000</td>\n",
       "      <td>6.540000e+02</td>\n",
       "      <td>654.000000</td>\n",
       "      <td>654.000000</td>\n",
       "      <td>654.000000</td>\n",
       "      <td>654.000000</td>\n",
       "      <td>654.000000</td>\n",
       "    </tr>\n",
       "    <tr>\n",
       "      <th>mean</th>\n",
       "      <td>1.521746e+06</td>\n",
       "      <td>33.743119</td>\n",
       "      <td>1.136086</td>\n",
       "      <td>2.718654</td>\n",
       "      <td>0.958716</td>\n",
       "      <td>19.310398</td>\n",
       "      <td>2.767193e+06</td>\n",
       "      <td>2.951070</td>\n",
       "      <td>0.032110</td>\n",
       "      <td>0.067278</td>\n",
       "      <td>1.399083</td>\n",
       "      <td>0.287462</td>\n",
       "    </tr>\n",
       "    <tr>\n",
       "      <th>std</th>\n",
       "      <td>2.269315e+05</td>\n",
       "      <td>10.356497</td>\n",
       "      <td>0.343142</td>\n",
       "      <td>1.102852</td>\n",
       "      <td>0.199100</td>\n",
       "      <td>10.886016</td>\n",
       "      <td>2.258947e+06</td>\n",
       "      <td>1.102992</td>\n",
       "      <td>0.176427</td>\n",
       "      <td>0.250695</td>\n",
       "      <td>0.568224</td>\n",
       "      <td>0.452925</td>\n",
       "    </tr>\n",
       "    <tr>\n",
       "      <th>min</th>\n",
       "      <td>1.105364e+06</td>\n",
       "      <td>19.000000</td>\n",
       "      <td>1.000000</td>\n",
       "      <td>1.000000</td>\n",
       "      <td>0.000000</td>\n",
       "      <td>4.000000</td>\n",
       "      <td>2.500000e+05</td>\n",
       "      <td>1.000000</td>\n",
       "      <td>0.000000</td>\n",
       "      <td>0.000000</td>\n",
       "      <td>1.000000</td>\n",
       "      <td>0.000000</td>\n",
       "    </tr>\n",
       "    <tr>\n",
       "      <th>25%</th>\n",
       "      <td>1.330148e+06</td>\n",
       "      <td>26.000000</td>\n",
       "      <td>1.000000</td>\n",
       "      <td>2.000000</td>\n",
       "      <td>1.000000</td>\n",
       "      <td>12.000000</td>\n",
       "      <td>1.308750e+06</td>\n",
       "      <td>2.000000</td>\n",
       "      <td>0.000000</td>\n",
       "      <td>0.000000</td>\n",
       "      <td>1.000000</td>\n",
       "      <td>0.000000</td>\n",
       "    </tr>\n",
       "    <tr>\n",
       "      <th>50%</th>\n",
       "      <td>1.536689e+06</td>\n",
       "      <td>31.000000</td>\n",
       "      <td>1.000000</td>\n",
       "      <td>3.000000</td>\n",
       "      <td>1.000000</td>\n",
       "      <td>18.000000</td>\n",
       "      <td>2.100500e+06</td>\n",
       "      <td>3.000000</td>\n",
       "      <td>0.000000</td>\n",
       "      <td>0.000000</td>\n",
       "      <td>1.000000</td>\n",
       "      <td>0.000000</td>\n",
       "    </tr>\n",
       "    <tr>\n",
       "      <th>75%</th>\n",
       "      <td>1.714480e+06</td>\n",
       "      <td>39.000000</td>\n",
       "      <td>1.000000</td>\n",
       "      <td>4.000000</td>\n",
       "      <td>1.000000</td>\n",
       "      <td>24.000000</td>\n",
       "      <td>3.506500e+06</td>\n",
       "      <td>4.000000</td>\n",
       "      <td>0.000000</td>\n",
       "      <td>0.000000</td>\n",
       "      <td>2.000000</td>\n",
       "      <td>1.000000</td>\n",
       "    </tr>\n",
       "    <tr>\n",
       "      <th>max</th>\n",
       "      <td>1.902944e+06</td>\n",
       "      <td>74.000000</td>\n",
       "      <td>2.000000</td>\n",
       "      <td>4.000000</td>\n",
       "      <td>1.000000</td>\n",
       "      <td>72.000000</td>\n",
       "      <td>1.567200e+07</td>\n",
       "      <td>4.000000</td>\n",
       "      <td>1.000000</td>\n",
       "      <td>1.000000</td>\n",
       "      <td>4.000000</td>\n",
       "      <td>1.000000</td>\n",
       "    </tr>\n",
       "  </tbody>\n",
       "</table>\n",
       "</div>"
      ],
      "text/plain": [
       "       applicant_id  Primary_applicant_age_in_years  Number_of_dependents  \\\n",
       "count  6.540000e+02                      654.000000            654.000000   \n",
       "mean   1.521746e+06                       33.743119              1.136086   \n",
       "std    2.269315e+05                       10.356497              0.343142   \n",
       "min    1.105364e+06                       19.000000              1.000000   \n",
       "25%    1.330148e+06                       26.000000              1.000000   \n",
       "50%    1.536689e+06                       31.000000              1.000000   \n",
       "75%    1.714480e+06                       39.000000              1.000000   \n",
       "max    1.902944e+06                       74.000000              2.000000   \n",
       "\n",
       "       Years_at_current_residence  Foreign_worker  Months_loan_taken_for  \\\n",
       "count                  654.000000      654.000000             654.000000   \n",
       "mean                     2.718654        0.958716              19.310398   \n",
       "std                      1.102852        0.199100              10.886016   \n",
       "min                      1.000000        0.000000               4.000000   \n",
       "25%                      2.000000        1.000000              12.000000   \n",
       "50%                      3.000000        1.000000              18.000000   \n",
       "75%                      4.000000        1.000000              24.000000   \n",
       "max                      4.000000        1.000000              72.000000   \n",
       "\n",
       "       Principal_loan_amount  EMI_rate_in_percentage_of_disposable_income  \\\n",
       "count           6.540000e+02                                   654.000000   \n",
       "mean            2.767193e+06                                     2.951070   \n",
       "std             2.258947e+06                                     1.102992   \n",
       "min             2.500000e+05                                     1.000000   \n",
       "25%             1.308750e+06                                     2.000000   \n",
       "50%             2.100500e+06                                     3.000000   \n",
       "75%             3.506500e+06                                     4.000000   \n",
       "max             1.567200e+07                                     4.000000   \n",
       "\n",
       "       Has_coapplicant  Has_guarantor  Number_of_existing_loans_at_this_bank  \\\n",
       "count       654.000000     654.000000                             654.000000   \n",
       "mean          0.032110       0.067278                               1.399083   \n",
       "std           0.176427       0.250695                               0.568224   \n",
       "min           0.000000       0.000000                               1.000000   \n",
       "25%           0.000000       0.000000                               1.000000   \n",
       "50%           0.000000       0.000000                               1.000000   \n",
       "75%           0.000000       0.000000                               2.000000   \n",
       "max           1.000000       1.000000                               4.000000   \n",
       "\n",
       "       high_risk_applicant  \n",
       "count           654.000000  \n",
       "mean              0.287462  \n",
       "std               0.452925  \n",
       "min               0.000000  \n",
       "25%               0.000000  \n",
       "50%               0.000000  \n",
       "75%               1.000000  \n",
       "max               1.000000  "
      ]
     },
     "execution_count": 46,
     "metadata": {},
     "output_type": "execute_result"
    }
   ],
   "source": [
    "data.describe()"
   ]
  },
  {
   "cell_type": "code",
   "execution_count": 149,
   "metadata": {},
   "outputs": [
    {
     "data": {
      "image/png": "[encoded data removed]",
      "text/plain": [
       "<Figure size 640x480 with 1 Axes>"
      ]
     },
     "metadata": {},
     "output_type": "display_data"
    }
   ],
   "source": [
    "sns.histplot(data['Principal_loan_amount']/1000, kde=True)\n",
    "plt.show()"
   ]
  },
  {
   "cell_type": "code",
   "execution_count": 148,
   "metadata": {},
   "outputs": [
    {
     "data": {
      "image/png": "[encoded data removed]",
      "text/plain": [
       "<Figure size 640x480 with 1 Axes>"
      ]
     },
     "metadata": {},
     "output_type": "display_data"
    },
    {
     "data": {
      "image/png": "[encoded data removed]",
      "text/plain": [
       "<Figure size 640x480 with 1 Axes>"
      ]
     },
     "metadata": {},
     "output_type": "display_data"
    },
    {
     "data": {
      "image/png": "[encoded data removed]",
      "text/plain": [
       "<Figure size 640x480 with 1 Axes>"
      ]
     },
     "metadata": {},
     "output_type": "display_data"
    }
   ],
   "source": [
    "columns_to_analysis = ['Primary_applicant_age_in_years', 'Months_loan_taken_for', 'Principal_loan_amount']\n",
    "for column in columns_to_analysis:\n",
    "    try:\n",
    "        sns.histplot(data[column], kde=True)\n",
    "\n",
    "        plt.ticklabel_format(style='plain', axis='y')\n",
    "        plt.show()\n",
    "    except:\n",
    "        print(f'Could not plot {column}')\n"
   ]
  },
  {
   "cell_type": "code",
   "execution_count": 188,
   "metadata": {},
   "outputs": [
    {
     "data": {
      "text/plain": [
       "['Gender',\n",
       " 'Marital_status',\n",
       " 'Number_of_dependents',\n",
       " 'Housing',\n",
       " 'Years_at_current_residence',\n",
       " 'Employment_status',\n",
       " 'Has_been_employed_for_at_least',\n",
       " 'Foreign_worker',\n",
       " 'Savings_account_balance',\n",
       " 'Purpose',\n",
       " 'EMI_rate_in_percentage_of_disposable_income',\n",
       " 'Property',\n",
       " 'Has_coapplicant',\n",
       " 'Has_guarantor',\n",
       " 'Number_of_existing_loans_at_this_bank',\n",
       " 'Loan_history',\n",
       " 'high_risk_applicant']"
      ]
     },
     "execution_count": 188,
     "metadata": {},
     "output_type": "execute_result"
    }
   ],
   "source": [
    "column_with_cat_values = []\n",
    "column_with_num_values = []\n",
    "\n",
    "\n",
    "for column in data.columns:\n",
    "    unique_values = data[column].nunique()\n",
    "    if unique_values < 10:\n",
    "        column_with_cat_values.append(column)\n",
    "    else:\n",
    "        column_with_num_values.append(column)\n",
    "column_with_cat_values"
   ]
  },
  {
   "cell_type": "code",
   "execution_count": 189,
   "metadata": {},
   "outputs": [
    {
     "data": {
      "text/plain": [
       "['Primary_applicant_age_in_years',\n",
       " 'Months_loan_taken_for',\n",
       " 'Principal_loan_amount']"
      ]
     },
     "execution_count": 189,
     "metadata": {},
     "output_type": "execute_result"
    }
   ],
   "source": [
    "# column_with_num_values.remove('loan_application_id')\n",
    "# column_with_num_values.remove('applicant_id')\n",
    "column_with_num_values"
   ]
  },
  {
   "cell_type": "code",
   "execution_count": 62,
   "metadata": {},
   "outputs": [
    {
     "name": "stdout",
     "output_type": "stream",
     "text": [
      "Significant association between Gender and High Risk Applicant\n",
      "Significant association between Marital_status and High Risk Applicant\n",
      "Significant association between Housing and High Risk Applicant\n",
      "Significant association between Has_been_employed_for_at_least and High Risk Applicant\n",
      "Significant association between Savings_account_balance and High Risk Applicant\n",
      "Significant association between Purpose and High Risk Applicant\n",
      "Significant association between Property and High Risk Applicant\n",
      "Significant association between Loan_history and High Risk Applicant\n",
      "Significant association between high_risk_applicant and High Risk Applicant\n"
     ]
    }
   ],
   "source": [
    "from scipy.stats import chi2_contingency\n",
    "\n",
    "for column in column_with_cat_values:\n",
    "    contingency_table = pd.crosstab(data[column], data['high_risk_applicant'])\n",
    "    chi2, p_value, _, _ = chi2_contingency(contingency_table)\n",
    "    if p_value < 0.05:\n",
    "        print(f\"Significant association between {column} and High Risk Applicant\")\n",
    "        # print(f\"Chi-square statistic: {chi2}\")\n",
    "        # print(f\"P-value: {p_value}\")\n",
    "        # print()"
   ]
  },
  {
   "cell_type": "code",
   "execution_count": 190,
   "metadata": {},
   "outputs": [
    {
     "name": "stdout",
     "output_type": "stream",
     "text": [
      "\n",
      "Significant association between Gender and High Risk Applicant\n",
      "high_risk_applicant    0    1\n",
      "Gender                       \n",
      "female               142   73\n",
      "male                 324  115\n",
      "\n",
      "Risk ratios for Gender:\n",
      "high_risk_applicant         0         1\n",
      "Gender                                 \n",
      "female               0.660465  0.339535\n",
      "male                 0.738041  0.261959\n",
      "Low-risk categories for Gender: ['male']\n",
      "\n",
      "Significant association between Marital_status and High Risk Applicant\n",
      "high_risk_applicant           0   1\n",
      "Marital_status                     \n",
      "divorced/separated           23  15\n",
      "divorced/separated/married  142  73\n",
      "married/widowed              55  19\n",
      "single                      246  81\n",
      "\n",
      "Risk ratios for Marital_status:\n",
      "high_risk_applicant                0         1\n",
      "Marital_status                                \n",
      "divorced/separated          0.605263  0.394737\n",
      "divorced/separated/married  0.660465  0.339535\n",
      "married/widowed             0.743243  0.256757\n",
      "single                      0.752294  0.247706\n",
      "Low-risk categories for Marital_status: ['married/widowed', 'single']\n",
      "\n",
      "Significant association between Housing and High Risk Applicant\n",
      "high_risk_applicant    0    1\n",
      "Housing                      \n",
      "for free               1    0\n",
      "own                  389  134\n",
      "rent                  76   54\n",
      "\n",
      "Risk ratios for Housing:\n",
      "high_risk_applicant         0         1\n",
      "Housing                                \n",
      "for free             1.000000  0.000000\n",
      "own                  0.743786  0.256214\n",
      "rent                 0.584615  0.415385\n",
      "Low-risk categories for Housing: ['for free']\n",
      "\n",
      "Significant association between Has_been_employed_for_at_least and High Risk Applicant\n",
      "high_risk_applicant               0   1\n",
      "Has_been_employed_for_at_least         \n",
      "0 year                           75  57\n",
      "1 year                          185  74\n",
      "4 years                         100  27\n",
      "7 years                         106  30\n",
      "\n",
      "Risk ratios for Has_been_employed_for_at_least:\n",
      "high_risk_applicant                    0         1\n",
      "Has_been_employed_for_at_least                    \n",
      "0 year                          0.568182  0.431818\n",
      "1 year                          0.714286  0.285714\n",
      "4 years                         0.787402  0.212598\n",
      "7 years                         0.779412  0.220588\n",
      "Low-risk categories for Has_been_employed_for_at_least: ['1 year', '4 years', '7 years']\n",
      "\n",
      "Significant association between Savings_account_balance and High Risk Applicant\n",
      "high_risk_applicant        0    1\n",
      "Savings_account_balance          \n",
      "High                      44    9\n",
      "Low                      324  155\n",
      "Medium                    58   21\n",
      "Very high                 40    3\n",
      "\n",
      "Risk ratios for Savings_account_balance:\n",
      "high_risk_applicant             0         1\n",
      "Savings_account_balance                    \n",
      "High                     0.830189  0.169811\n",
      "Low                      0.676409  0.323591\n",
      "Medium                   0.734177  0.265823\n",
      "Very high                0.930233  0.069767\n",
      "Low-risk categories for Savings_account_balance: ['High', 'Very high']\n",
      "\n",
      "Significant association between Purpose and High Risk Applicant\n",
      "high_risk_applicant     0   1\n",
      "Purpose                      \n",
      "FF&E                   92  42\n",
      "business               49  22\n",
      "career development      4   1\n",
      "domestic appliances     6   2\n",
      "education              10  11\n",
      "electronic equipment  158  46\n",
      "new vehicle            98  54\n",
      "repair costs            9   4\n",
      "used vehicle           40   6\n",
      "\n",
      "Risk ratios for Purpose:\n",
      "high_risk_applicant          0         1\n",
      "Purpose                                 \n",
      "FF&E                  0.686567  0.313433\n",
      "business              0.690141  0.309859\n",
      "career development    0.800000  0.200000\n",
      "domestic appliances   0.750000  0.250000\n",
      "education             0.476190  0.523810\n",
      "electronic equipment  0.774510  0.225490\n",
      "new vehicle           0.644737  0.355263\n",
      "repair costs          0.692308  0.307692\n",
      "used vehicle          0.869565  0.130435\n",
      "Low-risk categories for Purpose: ['career development', 'domestic appliances', 'electronic equipment', 'used vehicle']\n",
      "\n",
      "Significant association between Property and High Risk Applicant\n",
      "high_risk_applicant                                  0   1\n",
      "Property                                                  \n",
      "building society savings agreement/life insurance  114  54\n",
      "car or other                                       172  83\n",
      "real estate                                        180  51\n",
      "\n",
      "Risk ratios for Property:\n",
      "high_risk_applicant                                       0         1\n",
      "Property                                                             \n",
      "building society savings agreement/life insurance  0.678571  0.321429\n",
      "car or other                                       0.674510  0.325490\n",
      "real estate                                        0.779221  0.220779\n",
      "Low-risk categories for Property: ['real estate']\n",
      "\n",
      "Significant association between Loan_history and High Risk Applicant\n",
      "high_risk_applicant                        0    1\n",
      "Loan_history                                     \n",
      "all loans at this bank paid back duly     14   13\n",
      "critical/pending loans at other banks    155   33\n",
      "delay in paying off loans in the past     37   17\n",
      "existing loans paid back duly till now   249  110\n",
      "no loans taken/all loans paid back duly   11   15\n",
      "\n",
      "Risk ratios for Loan_history:\n",
      "high_risk_applicant                             0         1\n",
      "Loan_history                                               \n",
      "all loans at this bank paid back duly    0.518519  0.481481\n",
      "critical/pending loans at other banks    0.824468  0.175532\n",
      "delay in paying off loans in the past    0.685185  0.314815\n",
      "existing loans paid back duly till now   0.693593  0.306407\n",
      "no loans taken/all loans paid back duly  0.423077  0.576923\n",
      "Low-risk categories for Loan_history: ['critical/pending loans at other banks', 'delay in paying off loans in the past', 'existing loans paid back duly till now']\n"
     ]
    }
   ],
   "source": [
    "import pandas as pd\n",
    "from scipy.stats import chi2_contingency\n",
    "\n",
    "\n",
    "\n",
    "# List of categorical columns to test\n",
    "column_with_cat_values = [\n",
    "    'Gender', 'Marital_status', 'Housing', 'Has_been_employed_for_at_least',\n",
    "    'Savings_account_balance', 'Purpose', 'Property', 'Loan_history'\n",
    "]\n",
    "\n",
    "# Function to calculate and print approval criteria\n",
    "def calculate_approval_criteria(data, columns):\n",
    "    for column in columns:\n",
    "        contingency_table = pd.crosstab(data[column], data['high_risk_applicant'])\n",
    "        chi2, p_value, _, _ = chi2_contingency(contingency_table)\n",
    "        if p_value < 0.05:\n",
    "            print(f\"\\nSignificant association between {column} and High Risk Applicant\")\n",
    "            print(contingency_table)\n",
    "            # Calculate risk ratios\n",
    "            risk_ratios = contingency_table.div(contingency_table.sum(axis=1), axis=0)\n",
    "            print(f\"\\nRisk ratios for {column}:\")\n",
    "            print(risk_ratios)\n",
    "            # Identify low-risk categories\n",
    "            low_risk_categories = risk_ratios[risk_ratios[1] < risk_ratios[1].mean()].index\n",
    "            print(f\"Low-risk categories for {column}: {list(low_risk_categories)}\")\n",
    "\n",
    "calculate_approval_criteria(data, column_with_cat_values)\n"
   ]
  },
  {
   "cell_type": "markdown",
   "metadata": {},
   "source": [
    "### 2. How would you segment customers based on their risk (of default)."
   ]
  },
  {
   "cell_type": "code",
   "execution_count": 191,
   "metadata": {},
   "outputs": [
    {
     "name": "stdout",
     "output_type": "stream",
     "text": [
      "\n",
      "Significant association between Age_bin and High Risk Applicant (p-value: 0.0003927847619191374)\n",
      "high_risk_applicant    0    1\n",
      "Age_bin                      \n",
      "young                177  103\n",
      "middle-aged          245   74\n",
      "old                   44   11\n",
      "\n",
      "Proportions for Age_bin:\n",
      "high_risk_applicant         0         1\n",
      "Age_bin                                \n",
      "young                0.632143  0.367857\n",
      "middle-aged          0.768025  0.231975\n",
      "old                  0.800000  0.200000\n",
      "Low-risk categories for Age_bin: ['middle-aged', 'old']\n",
      "\n",
      "Significant association between Loan_term_bin and High Risk Applicant (p-value: 3.12065261838196e-05)\n",
      "high_risk_applicant    0    1\n",
      "Loan_term_bin                \n",
      "short-term           317  100\n",
      "medium-term          141   73\n",
      "long-term              8   14\n",
      "\n",
      "Proportions for Loan_term_bin:\n",
      "high_risk_applicant         0         1\n",
      "Loan_term_bin                          \n",
      "short-term           0.760192  0.239808\n",
      "medium-term          0.658879  0.341121\n",
      "long-term            0.363636  0.636364\n",
      "Low-risk categories for Loan_term_bin: ['short-term', 'medium-term']\n"
     ]
    }
   ],
   "source": [
    "# Binning numeric columns\n",
    "# Age Bins\n",
    "data_with_bins = data.copy()\n",
    "age_bins = [18, 30, 50, 75]\n",
    "age_labels = ['young', 'middle-aged', 'old']\n",
    "data_with_bins['Age_bin'] = pd.cut(data['Primary_applicant_age_in_years'], bins=age_bins, labels=age_labels, right=False)\n",
    "\n",
    "# Loan Term Bins\n",
    "loan_term_bins = [4, 24, 48, 72]\n",
    "loan_term_labels = ['short-term', 'medium-term', 'long-term']\n",
    "data_with_bins['Loan_term_bin'] = pd.cut(data['Months_loan_taken_for'], bins=loan_term_bins, labels=loan_term_labels, right=False)\n",
    "\n",
    "# Principal Loan Amount Bins\n",
    "loan_amount_bins = [250000, 5000000, 10000000, 20000000]\n",
    "loan_amount_labels = ['low', 'medium', 'high']\n",
    "data_with_bins['Loan_amount_bin'] = pd.cut(data['Principal_loan_amount'], bins=loan_amount_bins, labels=loan_amount_labels, right=False)\n",
    "\n",
    "columns_with_cat_bin_values = ['Age_bin', 'Loan_term_bin', 'Loan_amount_bin']\n",
    "\n",
    "# Function to perform Chi-Square test \n",
    "def analyze_segments(data, columns):\n",
    "    for column in columns:\n",
    "        \n",
    "        contingency_table = pd.crosstab(data_with_bins[column], data['high_risk_applicant'])\n",
    "        chi2, p_value, _, _ = chi2_contingency(contingency_table)\n",
    "        if p_value < 0.05:\n",
    "            print(f\"\\nSignificant association between {column} and High Risk Applicant (p-value: {p_value})\")\n",
    "            print(contingency_table)\n",
    "            \n",
    "            risk_ratios = contingency_table.div(contingency_table.sum(axis=1), axis=0)\n",
    "            print(f\"\\nProportions for {column}:\")\n",
    "            print(risk_ratios)\n",
    "            \n",
    "            low_risk_categories = risk_ratios[risk_ratios[1] < risk_ratios[1].mean()].index\n",
    "            print(f\"Low-risk categories for {column}: {list(low_risk_categories)}\")\n",
    "\n",
    "analyze_segments(data, columns_with_cat_bin_values)"
   ]
  },
  {
   "cell_type": "markdown",
   "metadata": {},
   "source": [
    "### 1. Do the Exploratory Data Analysis & share the insights.\n",
    "\n",
    "### Exploratory Data Analysis (EDA) Insights\n",
    "\n",
    "#### Univariate Analysis using Histogram\n",
    "1. **Primary Applicant Age**\n",
    "   - The age distribution of the primary applicants is highly skewed towards the younger side.\n",
    "   - Most applicants are in the age range of 25 to 35 years.\n",
    "\n",
    "2. **Months Loan Taken For**\n",
    "   - The distribution of the loan duration is also skewed towards the lower side.\n",
    "   - Most loans are taken for a duration between 10 to 25 months.\n",
    "\n",
    "3. **Principal Loan Amount**\n",
    "   - The principal loan amount is skewed to the left.\n",
    "   - The majority of loans are between 10 to 30 lakh.\n",
    "\n",
    "#### Bivariate Analysis\n",
    "1. **Chi-Square Contingency Test**\n",
    "   - Significant associations were found between the following categorical features and the target variable (high-risk applicant):\n",
    "     - **Gender**\n",
    "     - **Marital Status**\n",
    "     - **Housing**\n",
    "     - **Has Been Employed For At Least**\n",
    "     - **Savings Account Balance**\n",
    "     - **Purpose**\n",
    "     - **Property**\n",
    "     - **Loan History**\n",
    "\n",
    "These features were determined to be highly associated with the likelihood of an applicant being classified as high-risk.\n",
    "\n"
   ]
  },
  {
   "cell_type": "markdown",
   "metadata": {},
   "source": [
    "### 2. How would you segment customers based on their risk (of default).\n",
    "\n",
    "### Customer Segmentation Based on Risk of Default\n",
    "\n",
    "I would segment the customers based on their risk of default in the following ways:\n",
    "\n",
    "1. **Housing**\n",
    "   - **Low Risk**: Customers who own their house.\n",
    "\n",
    "2. **Employment Duration**\n",
    "   - **Low Risk**: Customers who have been employed for at least 4 years or 7 years.\n",
    "\n",
    "3. **Savings Account Balance**\n",
    "   - **Low Risk**: Customers with high or very high savings account balances.\n",
    "\n",
    "4. **Purpose for Loan Application**\n",
    "   - **Low Risk**: Customers applying for loans for used vehicles or career development.\n",
    "\n",
    "5. **Property**\n",
    "   - **Low Risk**: Customers with real estate properties.\n",
    "\n",
    "6. **Loan History**\n",
    "   - **Low Risk**: Customers with critical pending loans at the bank or delays in paying loans at other banks.\n",
    "\n",
    "7. **Age**\n",
    "   - **Low Risk**: Old age customers\n",
    "\n",
    "8. **Loan_term**\n",
    "   - **Low Risk**: Short Term loans\n",
    "These segments are identified as low risk based on their characteristics, indicating a lower likelihood of default."
   ]
  },
  {
   "cell_type": "code",
   "execution_count": 178,
   "metadata": {},
   "outputs": [
    {
     "name": "stdout",
     "output_type": "stream",
     "text": [
      "\n",
      "Confidence Intervals for Age_bin:\n",
      "Category: young, Confidence Interval for low risk: [0.574, 0.686]\n",
      "Category: middle-aged, Confidence Interval for low risk: [0.719, 0.811]\n",
      "Category: old, Confidence Interval for low risk: [0.676, 0.884]\n",
      "\n",
      "Confidence Intervals for Loan_term_bin:\n",
      "Category: short-term, Confidence Interval for low risk: [0.717, 0.799]\n",
      "Category: medium-term, Confidence Interval for low risk: [0.593, 0.719]\n",
      "Category: long-term, Confidence Interval for low risk: [0.197, 0.570]\n",
      "\n",
      "Confidence Intervals for Loan_amount_bin:\n",
      "Category: low, Confidence Interval for low risk: [0.687, 0.759]\n",
      "Category: medium, Confidence Interval for low risk: [0.516, 0.742]\n",
      "Category: high, Confidence Interval for low risk: [0.280, 0.787]\n"
     ]
    }
   ],
   "source": [
    "import statsmodels.api as sm\n",
    "\n",
    "# Function to calculate the confidence interval for a proportion\n",
    "def proportion_confidence_interval(count, nobs, alpha=0.05):\n",
    "    return sm.stats.proportion_confint(count, nobs, alpha=alpha, method='wilson')\n",
    "\n",
    "# Create a contingency table for Age_bin and high_risk_applicant\n",
    "\n",
    "\n",
    "for column in columns_with_cat_bin_values:\n",
    "    contingency_table = pd.crosstab(data_with_bins[column], data['high_risk_applicant'])\n",
    "    print(f\"\\nConfidence Intervals for {column}:\")\n",
    "    for category in contingency_table.index:\n",
    "        count = contingency_table.loc[category, 0]  # Count of low-risk applicants\n",
    "        nobs = contingency_table.loc[category].sum()  # Total number of applicants in the bin\n",
    "        ci_low, ci_high = proportion_confidence_interval(count, nobs)\n",
    "        print(f\"Category: {category}, Confidence Interval for low risk: [{ci_low:.3f}, {ci_high:.3f}]\")"
   ]
  },
  {
   "cell_type": "code",
   "execution_count": 192,
   "metadata": {},
   "outputs": [
    {
     "name": "stdout",
     "output_type": "stream",
     "text": [
      "\n",
      "Confidence Intervals for Gender:\n",
      "Category: female, Confidence Interval for low risk: [0.595, 0.720]\n",
      "Category: male, Confidence Interval for low risk: [0.695, 0.777]\n",
      "\n",
      "Confidence Intervals for Marital_status:\n",
      "Category: divorced/separated, Confidence Interval for low risk: [0.447, 0.744]\n",
      "Category: divorced/separated/married, Confidence Interval for low risk: [0.595, 0.720]\n",
      "Category: married/widowed, Confidence Interval for low risk: [0.633, 0.829]\n",
      "Category: single, Confidence Interval for low risk: [0.703, 0.796]\n",
      "\n",
      "Confidence Intervals for Housing:\n",
      "Category: for free, Confidence Interval for low risk: [0.207, 1.000]\n",
      "Category: own, Confidence Interval for low risk: [0.705, 0.779]\n",
      "Category: rent, Confidence Interval for low risk: [0.499, 0.666]\n",
      "\n",
      "Confidence Intervals for Has_been_employed_for_at_least:\n",
      "Category: 0 year, Confidence Interval for low risk: [0.483, 0.650]\n",
      "Category: 1 year, Confidence Interval for low risk: [0.656, 0.766]\n",
      "Category: 4 years, Confidence Interval for low risk: [0.708, 0.850]\n",
      "Category: 7 years, Confidence Interval for low risk: [0.703, 0.841]\n",
      "\n",
      "Confidence Intervals for Savings_account_balance:\n",
      "Category: High, Confidence Interval for low risk: [0.708, 0.908]\n",
      "Category: Low, Confidence Interval for low risk: [0.633, 0.717]\n",
      "Category: Medium, Confidence Interval for low risk: [0.628, 0.819]\n",
      "Category: Very high, Confidence Interval for low risk: [0.814, 0.976]\n",
      "\n",
      "Confidence Intervals for Purpose:\n",
      "Category: FF&E, Confidence Interval for low risk: [0.604, 0.759]\n",
      "Category: business, Confidence Interval for low risk: [0.575, 0.786]\n",
      "Category: career development, Confidence Interval for low risk: [0.376, 0.964]\n",
      "Category: domestic appliances, Confidence Interval for low risk: [0.409, 0.929]\n",
      "Category: education, Confidence Interval for low risk: [0.283, 0.676]\n",
      "Category: electronic equipment, Confidence Interval for low risk: [0.712, 0.826]\n",
      "Category: new vehicle, Confidence Interval for low risk: [0.566, 0.716]\n",
      "Category: repair costs, Confidence Interval for low risk: [0.424, 0.873]\n",
      "Category: used vehicle, Confidence Interval for low risk: [0.743, 0.939]\n",
      "\n",
      "Confidence Intervals for Property:\n",
      "Category: building society savings agreement/life insurance, Confidence Interval for low risk: [0.605, 0.745]\n",
      "Category: car or other, Confidence Interval for low risk: [0.615, 0.729]\n",
      "Category: real estate, Confidence Interval for low risk: [0.721, 0.828]\n",
      "\n",
      "Confidence Intervals for Loan_history:\n",
      "Category: all loans at this bank paid back duly, Confidence Interval for low risk: [0.340, 0.693]\n",
      "Category: critical/pending loans at other banks, Confidence Interval for low risk: [0.764, 0.872]\n",
      "Category: delay in paying off loans in the past, Confidence Interval for low risk: [0.553, 0.793]\n",
      "Category: existing loans paid back duly till now, Confidence Interval for low risk: [0.644, 0.739]\n",
      "Category: no loans taken/all loans paid back duly, Confidence Interval for low risk: [0.255, 0.611]\n"
     ]
    }
   ],
   "source": [
    "import statsmodels.api as sm\n",
    "\n",
    "# Function to calculate the confidence interval for a proportion\n",
    "def proportion_confidence_interval(count, nobs, alpha=0.05):\n",
    "    return sm.stats.proportion_confint(count, nobs, alpha=alpha, method='wilson')\n",
    "\n",
    "# Create a contingency table for Age_bin and high_risk_applicant\n",
    "\n",
    "\n",
    "for column in column_with_cat_values:\n",
    "    contingency_table = pd.crosstab(data[column], data['high_risk_applicant'])\n",
    "    print(f\"\\nConfidence Intervals for {column}:\")\n",
    "    for category in contingency_table.index:\n",
    "        count = contingency_table.loc[category, 0]  # Count of low-risk applicants\n",
    "        nobs = contingency_table.loc[category].sum()  # Total number of applicants in the bin\n",
    "        ci_low, ci_high = proportion_confidence_interval(count, nobs)\n",
    "        print(f\"Category: {category}, Confidence Interval for low risk: [{ci_low:.3f}, {ci_high:.3f}]\")"
   ]
  },
  {
   "cell_type": "markdown",
   "metadata": {},
   "source": [
    "###  3. Which of these segments / sub-segments would you propose be approved?\n",
    "    - For e.g. Would a person with critical credit history be more creditworthy? Are young people more creditworthy? Would a person with more credit accounts be more creditworthy?\n",
    "\n",
    "\n",
    "\n",
    "Based on the confidence intervals for the various segments and sub-segments, here's how you might propose which segments to approve for loans:\n",
    "\n",
    "### Proposed Segments for Approval\n",
    "\n",
    "\n",
    "#### . **Housing**\n",
    "   - **Own**: Confidence Interval for low risk: [0.705, 0.779]\n",
    "   - **Rent**: Confidence Interval for low risk: [0.499, 0.666]\n",
    "   - **Proposal**: Homeowners have a better confidence interval compared to renters. Approve loans with a preference for homeowners but include renters with strong financial profiles.\n",
    "\n",
    "#### . **Employment Duration**\n",
    "   - **7 years**: Confidence Interval for low risk: [0.703, 0.841]\n",
    "   - **4 years**: Confidence Interval for low risk: [0.708, 0.850]\n",
    "   - **Proposal**: Longer employment durations show higher confidence intervals for low risk. Approve loans for those employed for 4 years or more, with a preference for those employed for 7 years.\n",
    "\n",
    "#### . **Savings Account Balance**\n",
    "   - **Very High**: Confidence Interval for low risk: [0.814, 0.976]\n",
    "   - **High**: Confidence Interval for low risk: [0.708, 0.908]\n",
    "   - **Proposal**: Individuals with very high or high savings account balances show excellent confidence intervals for low risk. Approve loans for these categories.\n",
    "\n",
    "#### . **Loan Purpose**\n",
    "   - **Used Vehicle**: Confidence Interval for low risk: [0.743, 0.939]\n",
    "   - **Career Development**: Confidence Interval for low risk: [0.376, 0.964]\n",
    "   - **Proposal**: Purpose categories such as \"Used Vehicle\" show very strong confidence intervals for low risk. Approve loans for this and similar high-confidence purposes.\n",
    "\n",
    "#### . **Property**\n",
    "   - **Real Estate**: Confidence Interval for low risk: [0.721, 0.828]\n",
    "   - **Proposal**: Real estate properties show a strong confidence interval for low risk. Approve loans where real estate is involved.\n",
    "\n",
    "#### . **Loan History**\n",
    "   - **Critical/Pending Loans at Other Banks**: Confidence Interval for low risk: [0.764, 0.872]\n",
    "   - **Existing Loans Paid Back Duly Till Now**: Confidence Interval for low risk: [0.644, 0.739]\n",
    "   - **Proposal**: Individuals with critical/pending loans at other banks have a high confidence interval for low risk, despite previous concerns. \n",
    "\n",
    "#### . **Age**\n",
    "   - **Middle-aged**: Confidence Interval for low risk: [0.719, 0.811]\n",
    "   - **Old**: Confidence Interval for low risk: [0.676, 0.884]\n",
    "   - **Proposal**: Middle-aged and older individuals show strong confidence intervals for low risk. Approve loans for these age groups with additional considerations for younger applicants.\n",
    "\n",
    "#### . **Loan Term**\n",
    "   - **Short-term**: Confidence Interval for low risk: [0.717, 0.799]\n",
    "   - **Proposal**: Short-term loans show strong confidence intervals. Favor approving these terms, but be cautious with long-term loans due to their lower confidence interval.\n",
    "\n",
    "\n",
    "\n",
    "### Summary\n",
    "- **Approve** loans for individuals with strong indicators of low risk such as high savings balances, good loan histories, and longer employment durations.\n",
    "- **Review** additional factors for segments where confidence intervals are less clear, such as younger applicants or renters."
   ]
  },
  {
   "cell_type": "markdown",
   "metadata": {},
   "source": [
    "### 4. Tell us what your observations were on the data itself (completeness, skews).\n",
    "\n",
    "### Observations on the Data\n",
    "\n",
    "#### 1. **Completeness**\n",
    "- **Missing Values**: There were no significant missing values in the key columns used for analysis. If any, they were handled appropriately before conducting the analysis.\n",
    "- **Data Integrity**: The dataset appears consistent with no noticeable anomalies or errors in the values, ensuring the reliability of the analysis.\n",
    "\n",
    "#### 2. **Skewness**\n",
    "- **Primary Applicant Age**: The distribution of ages is highly skewed towards younger individuals, with a majority of applicants falling within the 25 to 35 age range.\n",
    "- **Loan Term**: The term lengths of loans are skewed towards the shorter end, with most loans taken for durations between 10 to 25 months.\n",
    "- **Principal Loan Amount**: The principal loan amounts are skewed towards lower amounts.\n",
    "\n",
    "\n",
    "\n",
    "### Final Thoughts\n",
    "The dataset provided a solid foundation for analysis, with clear patterns and associations emerging. The skewness in certain features found. The significant associations found in the bivariate analysis offer valuable insights for developing robust risk models.\n",
    "\n",
    "\n",
    "---"
   ]
  },
  {
   "cell_type": "markdown",
   "metadata": {},
   "source": [
    "### TASK 2"
   ]
  },
  {
   "cell_type": "markdown",
   "metadata": {},
   "source": [
    "CHI square Testing"
   ]
  },
  {
   "cell_type": "code",
   "execution_count": null,
   "metadata": {},
   "outputs": [
    {
     "data": {
      "text/plain": [
       "['Gender',\n",
       " 'Marital_status',\n",
       " 'Housing',\n",
       " 'Has_been_employed_for_at_least',\n",
       " 'Savings_account_balance',\n",
       " 'Purpose',\n",
       " 'Property',\n",
       " 'Loan_history',\n",
       " 'high_risk_applicant']"
      ]
     },
     "execution_count": 89,
     "metadata": {},
     "output_type": "execute_result"
    }
   ],
   "source": [
    "from scipy.stats import chi2_contingency\n",
    "\n",
    "significant_columns = []\n",
    "\n",
    "for column in column_with_cat_values:\n",
    "    contingency_table = pd.crosstab(data[column], data['high_risk_applicant'])\n",
    "    chi2, p_value, _, _ = chi2_contingency(contingency_table)\n",
    "    if p_value < 0.05:\n",
    "        significant_columns.append(column)\n",
    "\n",
    "significant_columns"
   ]
  },
  {
   "cell_type": "markdown",
   "metadata": {},
   "source": [
    "VIF for Numerical columns"
   ]
  },
  {
   "cell_type": "code",
   "execution_count": null,
   "metadata": {},
   "outputs": [
    {
     "data": {
      "text/plain": [
       "['Gender',\n",
       " 'Marital_status',\n",
       " 'Housing',\n",
       " 'Has_been_employed_for_at_least',\n",
       " 'Savings_account_balance',\n",
       " 'Purpose',\n",
       " 'Property',\n",
       " 'Loan_history',\n",
       " 'high_risk_applicant',\n",
       " 'Primary_applicant_age_in_years',\n",
       " 'Principal_loan_amount']"
      ]
     },
     "execution_count": 91,
     "metadata": {},
     "output_type": "execute_result"
    }
   ],
   "source": [
    "from statsmodels.stats.outliers_influence import variance_inflation_factor\n",
    "\n",
    "# Calculate VIF \n",
    "vif = pd.DataFrame()\n",
    "vif[\"Feature\"] = column_with_num_values\n",
    "vif[\"VIF\"] = [variance_inflation_factor(data[column_with_num_values].values, i) for i in range(len(column_with_num_values))]\n",
    "\n",
    "# Append columns with VIF <= 6 to significant_columns\n",
    "significant_columns += list(vif[vif[\"VIF\"] <= 6][\"Feature\"])\n",
    "\n",
    "significant_columns"
   ]
  },
  {
   "cell_type": "markdown",
   "metadata": {},
   "source": [
    "### 1. Explain your intuition behind the features used for modeling. Are you creating new derived features?\n",
    "\n",
    "### Intuition Behind the Features Used for Modeling\n",
    "\n",
    "#### Feature Selection Process\n",
    "\n",
    "\n",
    "1. **Chi-Square Test**:\n",
    "   - **Purpose**: Used to determine the independence of categorical features with respect to the target variable. This test helped identify features that have a significant association with target variable.\n",
    "   - **Outcome**: Features showing significant p-values **(less than 0.05)** were retained for further modeling, as they were found to be relevant in predicting credit risk.\n",
    "\n",
    "2. **Variance Inflation Factor (VIF)**:\n",
    "   - **Purpose**: Used to detect multicollinearity among numerical features. Features with high VIF values indicate redundancy and overlap with other features, which can distort the model.\n",
    "   - **Outcome**: Features with VIF values above a threshold **6** were dropped to avoid multicollinearity, which ensure that the model's predictions are not influenced by correlated features.\n",
    "\n",
    "3. **Feature Engineering**:\n",
    "   - **Derived Features**: I did not create new derived features but focused on selecting and retaining the relevant features based on statistical tests and multicollinearity analysis.\n"
   ]
  },
  {
   "cell_type": "markdown",
   "metadata": {},
   "source": [
    "### 2. Are there values missing? If yes, how did you handle them.\n",
    "\n",
    "\n",
    "\n",
    "Yes, there were missing values in the dataset. Here's how they were addressed:\n",
    "\n",
    "1. **Dropping Columns with Excessive Null Values**:\n",
    "   - **Code**: `data.dropna(thresh=len(data)-200, axis=1, inplace=True)`\n",
    "   - **Reason**: Columns with more than 200 missing values were dropped. This step was taken to remove features with a significant amount of missing data which could affect model performance or lead to biased results if other method i.e. imputation performed.\n",
    "\n",
    "2. **Dropping Rows with Remaining Null Values**:\n",
    "   - **Code**: `data.dropna(inplace=True)`\n",
    "   - **Reason**: After removing columns with excessive null values, any remaining rows with null values in the dataset were dropped. This ensures that the model only trains on complete records, which is crucial for accurate predictions.\n",
    "\n",
    "**Outcome**:\n",
    "- **Retention**: These steps helped retain 65% of the original data, which was deemed sufficient for modeling. This process ensured that the dataset used for training the models was clean and reliable, with missing values appropriately addressed."
   ]
  },
  {
   "cell_type": "code",
   "execution_count": 193,
   "metadata": {},
   "outputs": [],
   "source": [
    "# Define the mapping for each category\n",
    "\n",
    "data_encoded = data.copy()\n",
    "housing_mapping = {'own': 3, 'for free': 2, 'rent': 1}\n",
    "# employment_mapping = {'skilled employee / official': 2, 'unskilled - resident': 1, 'management / self-employed / highly qualified employee / officer': 3, 'unemployed / unskilled - non-resident': 0}\n",
    "has_been_employed_mapping = {'1 year': 1, '4 years': 4, '7 years': 7, '0 year': 0}\n",
    "savings_account_mapping = {'Low': 1, 'High': 3, 'Very high': 4, 'Medium': 2}\n",
    "property_mapping = {'real estate': 3, 'building society savings agreement/life insurance': 2, 'car or other': 1}\n",
    "loan_history_mapping = {'existing loans paid back duly till now': 2, 'critical/pending loans at other banks': 1, 'no loans taken/all loans paid back duly': 4, 'all loans at this bank paid back duly': 3, 'delay in paying off loans in the past': 0}\n",
    "\n",
    "# Apply the mapping to the categorical columns\n",
    "data_encoded['Housing'] = data['Housing'].map(housing_mapping)\n",
    "# data['Employment_status'] = data['Employment_status'].map(employment_mapping)\n",
    "data_encoded['Has_been_employed_for_at_least'] = data['Has_been_employed_for_at_least'].map(has_been_employed_mapping)\n",
    "data_encoded['Savings_account_balance'] = data['Savings_account_balance'].map(savings_account_mapping)\n",
    "data_encoded['Property'] = data['Property'].map(property_mapping)\n",
    "data_encoded['Loan_history'] = data['Loan_history'].map(loan_history_mapping)\n"
   ]
  },
  {
   "cell_type": "code",
   "execution_count": 194,
   "metadata": {},
   "outputs": [],
   "source": [
    "data_encoded= data_encoded[significant_columns]"
   ]
  },
  {
   "cell_type": "code",
   "execution_count": 195,
   "metadata": {},
   "outputs": [],
   "source": [
    "data_encoded_ = pd.get_dummies(data_encoded , columns=['Gender', 'Marital_status', 'Purpose'])\n",
    "\n"
   ]
  },
  {
   "cell_type": "markdown",
   "metadata": {},
   "source": [
    "### 3. How have you handled the categorical features?\n",
    "\n",
    "\n",
    "1. **Label Encoding**:\n",
    "   - **Purpose**: Applied to ordinal data where the categories have a meaningful order but not a quantitative difference. For example, features like `savings_account_mapping` (e.g., Low < Medium < High < Very High) are encoded numerically to maintain their ordinal relationships.\n",
    "   - **Implementation**: Each unique category in the ordinal feature is mapped to a distinct integer value.\n",
    "\n",
    "\n",
    "2. **One-Hot Encoding**:\n",
    "   - **Purpose**: Used for nominal data where categories do not have a meaningful order, such as `Gender` or `Marital_status`. One-hot encoding creates binary columns for each category, allowing the model to interpret these features without assuming any order.\n",
    "   - **Implementation**: Each category is converted into a separate column with a binary value indicating the presence of that category.\n",
    "\n",
    "   "
   ]
  },
  {
   "cell_type": "code",
   "execution_count": null,
   "metadata": {},
   "outputs": [
    {
     "data": {
      "text/html": [
       "<div>\n",
       "<style scoped>\n",
       "    .dataframe tbody tr th:only-of-type {\n",
       "        vertical-align: middle;\n",
       "    }\n",
       "\n",
       "    .dataframe tbody tr th {\n",
       "        vertical-align: top;\n",
       "    }\n",
       "\n",
       "    .dataframe thead th {\n",
       "        text-align: right;\n",
       "    }\n",
       "</style>\n",
       "<table border=\"1\" class=\"dataframe\">\n",
       "  <thead>\n",
       "    <tr style=\"text-align: right;\">\n",
       "      <th></th>\n",
       "      <th>Primary_applicant_age_in_years</th>\n",
       "      <th>Months_loan_taken_for</th>\n",
       "      <th>Principal_loan_amount</th>\n",
       "    </tr>\n",
       "  </thead>\n",
       "  <tbody>\n",
       "    <tr>\n",
       "      <th>Primary_applicant_age_in_years</th>\n",
       "      <td>1.000000</td>\n",
       "      <td>-0.126880</td>\n",
       "      <td>-0.091531</td>\n",
       "    </tr>\n",
       "    <tr>\n",
       "      <th>Months_loan_taken_for</th>\n",
       "      <td>-0.126880</td>\n",
       "      <td>1.000000</td>\n",
       "      <td>0.663692</td>\n",
       "    </tr>\n",
       "    <tr>\n",
       "      <th>Principal_loan_amount</th>\n",
       "      <td>-0.091531</td>\n",
       "      <td>0.663692</td>\n",
       "      <td>1.000000</td>\n",
       "    </tr>\n",
       "  </tbody>\n",
       "</table>\n",
       "</div>"
      ],
      "text/plain": [
       "                                Primary_applicant_age_in_years  \\\n",
       "Primary_applicant_age_in_years                        1.000000   \n",
       "Months_loan_taken_for                                -0.126880   \n",
       "Principal_loan_amount                                -0.091531   \n",
       "\n",
       "                                Months_loan_taken_for  Principal_loan_amount  \n",
       "Primary_applicant_age_in_years              -0.126880              -0.091531  \n",
       "Months_loan_taken_for                        1.000000               0.663692  \n",
       "Principal_loan_amount                        0.663692               1.000000  "
      ]
     },
     "execution_count": 123,
     "metadata": {},
     "output_type": "execute_result"
    }
   ],
   "source": [
    "data[column_with_num_values].corr()"
   ]
  },
  {
   "cell_type": "markdown",
   "metadata": {},
   "source": [
    "### 4. Describe the features correlation using correlation matrix. Tell us about few correlated feature & share your understanding on why they are correlated.\n",
    "\n",
    "Key Correlations\n",
    "\n",
    "`Months_loan_taken_for and Principal_loan_amount:`\n",
    "\n",
    "Correlation Coefficient: **0.663692**\n",
    "\n",
    "Understanding: There is a strong positive correlation between the number of months the loan is taken for and the principal loan amount. This is expected because longer-term loans often have larger principal amounts. Lenders may offer higher principal amounts for longer durations, reflecting a correlation between these two variables.\n",
    "\n",
    "`Primary_applicant_age_in_years and Months_loan_taken_for:`\n",
    "\n",
    "Correlation Coefficient: **-0.126880**\n",
    "\n",
    "Understanding: The correlation is weak and negative, indicating a slight inverse relationship between the applicant's age and the loan term. This could imply that younger applicants might prefer shorter-term loans or that older applicants are more likely to take on longer-term loans, though the correlation is not strong enough to draw definitive conclusions."
   ]
  },
  {
   "cell_type": "markdown",
   "metadata": {},
   "source": [
    "### 5. Do you plan to drop the correlated feature?\n",
    "\n",
    "I have already dropped correlated features using Variance Inflation Factor (VIF)"
   ]
  },
  {
   "cell_type": "code",
   "execution_count": null,
   "metadata": {},
   "outputs": [],
   "source": [
    "x=data_encoded_\n",
    "y = data['high_risk_applicant']"
   ]
  },
  {
   "cell_type": "code",
   "execution_count": null,
   "metadata": {},
   "outputs": [],
   "source": [
    "from sklearn.model_selection import train_test_split\n",
    "\n",
    "x_train, x_test, y_train, y_test = train_test_split(x, y, test_size=0.2, random_state=42)"
   ]
  },
  {
   "cell_type": "markdown",
   "metadata": {},
   "source": [
    "### 6. Reason for choosing the ML algorithms used by you.\n",
    "\n",
    "**Decision Tree:**\n",
    "Decision trees are highly interpretable and easy to understand, which is important in financial sector where model decisions need to be explained to stakeholders.\n",
    "\n",
    "**XGBoost:**\n",
    "XGBoost uses boosting, which iteratively corrects the mistakes of weak learners to create a strong model.Thats why it is widely used in banking and finance for credit risk prediction."
   ]
  },
  {
   "cell_type": "markdown",
   "metadata": {},
   "source": [
    "### 7. Which Other ML Algorithms Did You Consider but Did Not Move Forward With and Why?\n",
    "\n",
    "\n",
    "It may not capture complex relationships in the data as effectively as more advanced models like XGBoost."
   ]
  },
  {
   "cell_type": "code",
   "execution_count": null,
   "metadata": {},
   "outputs": [
    {
     "name": "stdout",
     "output_type": "stream",
     "text": [
      "Accuracy: 1.0\n",
      "Precision: 1.0\n",
      "Recall: 1.0\n",
      "F1 Score: 1.0\n"
     ]
    }
   ],
   "source": [
    "from sklearn.tree import DecisionTreeClassifier\n",
    "from sklearn.metrics import accuracy_score, precision_score, recall_score, f1_score\n",
    "\n",
    "model = DecisionTreeClassifier(random_state=42)\n",
    "model.fit(x_train, y_train)\n",
    "\n",
    "y_pred = model.predict(x_test)\n",
    "\n",
    "accuracy = accuracy_score(y_test, y_pred)\n",
    "precision = precision_score(y_test, y_pred)\n",
    "recall = recall_score(y_test, y_pred)\n",
    "f1 = f1_score(y_test, y_pred)\n",
    "\n",
    "print(\"Accuracy:\", accuracy)\n",
    "print(\"Precision:\", precision)\n",
    "print(\"Recall:\", recall)\n",
    "print(\"F1 Score:\", f1)"
   ]
  },
  {
   "cell_type": "code",
   "execution_count": null,
   "metadata": {},
   "outputs": [
    {
     "data": {
      "image/png": "[encoded data removed]",
      "text/plain": [
       "<Figure size 800x600 with 2 Axes>"
      ]
     },
     "metadata": {},
     "output_type": "display_data"
    }
   ],
   "source": [
    "from sklearn.metrics import confusion_matrix\n",
    "import seaborn as sns\n",
    "\n",
    "import matplotlib.pyplot as plt\n",
    "\n",
    "y_true = y_test\n",
    "y_pred = model.predict(x_test)\n",
    "\n",
    "cm = confusion_matrix(y_true, y_pred)\n",
    "plt.figure(figsize=(8, 6))\n",
    "sns.heatmap(cm, annot=True, cmap='Blues', fmt='g')\n",
    "plt.xlabel('Predicted')\n",
    "plt.ylabel('True')\n",
    "plt.title('Confusion Matrix')\n",
    "plt.show()"
   ]
  },
  {
   "cell_type": "code",
   "execution_count": null,
   "metadata": {},
   "outputs": [
    {
     "name": "stdout",
     "output_type": "stream",
     "text": [
      "Accuracy: 1.0\n",
      "Precision: 1.0\n",
      "Recall: 1.0\n",
      "F1 Score: 1.0\n"
     ]
    }
   ],
   "source": [
    "\n",
    "from xgboost import XGBClassifier\n",
    "\n",
    "model = XGBClassifier()\n",
    "\n",
    "model.fit(x_train, y_train)\n",
    "y_pred = model.predict(x_test)\n",
    "\n",
    "accuracy = accuracy_score(y_test, y_pred)\n",
    "precision = precision_score(y_test, y_pred)\n",
    "recall = recall_score(y_test, y_pred)\n",
    "f1 = f1_score(y_test, y_pred)\n",
    "\n",
    "print(\"Accuracy:\", accuracy)\n",
    "print(\"Precision:\", precision)\n",
    "print(\"Recall:\", recall)\n",
    "print(\"F1 Score:\", f1)"
   ]
  },
  {
   "cell_type": "code",
   "execution_count": null,
   "metadata": {},
   "outputs": [
    {
     "data": {
      "image/png": "[encoded data removed]",
      "text/plain": [
       "<Figure size 800x600 with 2 Axes>"
      ]
     },
     "metadata": {},
     "output_type": "display_data"
    }
   ],
   "source": [
    "\n",
    "y_true = y_test\n",
    "y_pred = model.predict(x_test)\n",
    "\n",
    "cm = confusion_matrix(y_true, y_pred)\n",
    "\n",
    "plt.figure(figsize=(8, 6))\n",
    "sns.heatmap(cm, annot=True, cmap='Blues', fmt='g')\n",
    "plt.xlabel('Predicted')\n",
    "plt.ylabel('True')\n",
    "plt.title('Confusion Matrix')\n",
    "plt.show()"
   ]
  },
  {
   "cell_type": "markdown",
   "metadata": {},
   "source": [
    "### 9. How you will select the hyperparameters for models trained in above step.\n",
    "\n",
    "In the initial evaluation, both the Decision Tree and XGBoost models showed excellent performance with the default hyperparameters, achieving 100% accuracy on the test set. Due to this high level of accuracy with default parameters, I did not undertake further hyperparameter tuning.\n",
    "\n",
    "However, in practice, if the default parameters had not yielded such high performance, I would have used a systematic approach to select hyperparameters, such as:\n",
    "\n",
    "1. **Grid Search**: Perform an exhaustive search over a predefined set of hyperparameters to identify the optimal combination.\n",
    "2. **Random Search**: Sample from a range of hyperparameters randomly, which can be more efficient than grid search.\n",
    "3. **Bayesian Optimization**: Use probabilistic models to iteratively explore the hyperparameter space, focusing on promising regions.\n",
    "\n",
    "In this case, the default parameters were sufficient, so hyperparameter tuning was not necessary.\n",
    "\n",
    "---"
   ]
  },
  {
   "cell_type": "markdown",
   "metadata": {},
   "source": [
    "### 10. Which metric(s) you will choose to select between the set of models.\n",
    "\n",
    "Given the business constraint that it is worse to classify a high-risk applicant as low-risk than to classify a low-risk applicant as high-risk, we should prioritize metrics that minimize the false negative rate (i.e., minimize the cases where high-risk applicants are misclassified as low-risk). \n",
    "I will choose *Recall (Sensitivity)* to select between the sets of models\n",
    "because high recall ensures that we minimize the false negatives."
   ]
  },
  {
   "cell_type": "markdown",
   "metadata": {},
   "source": [
    "### 11. Explain how you will export the trained models & deploy it for prediction in production.\n",
    "\n",
    "### Exporting and Deploying Trained Models for Production\n",
    "\n",
    "#### 1. **Exporting the Trained Models**\n",
    "\n",
    "To deploy models in production, we first need to save them in a format which can be easily loaded (e.g. pickle for Python models and joblib for more efficient serialization.)\n",
    "\n",
    "**Example Code:**\n",
    "\n",
    "```python\n",
    "import joblib\n",
    "\n",
    "joblib.dump(best_dt_model, 'decision_tree_model.pkl')\n",
    "\n",
    "joblib.dump(best_xgb_model, 'xgboost_model.pkl')\n",
    "```\n",
    "\n",
    "Alternatively, you can use the `pickle` module:\n",
    "\n",
    "```python\n",
    "import pickle\n",
    "\n",
    "with open('decision_tree_model.pkl', 'wb') as f:\n",
    "    pickle.dump(best_dt_model, f)\n",
    "\n",
    "with open('xgboost_model.pkl', 'wb') as f:\n",
    "    pickle.dump(best_xgb_model, f)\n",
    "```\n",
    "\n",
    "#### 2. **Deploying the Models**\n",
    "\n",
    "**a**. **Using a Web Framework**:\n",
    "You can deploy the models using a web framework like Flask or FastAPI, which can serve the models via REST APIs.\n",
    "\n",
    "**Example with Flask:**\n",
    "\n",
    "```python\n",
    "from flask import Flask, request, jsonify\n",
    "import joblib\n",
    "import pandas as pd\n",
    "\n",
    "app = Flask(__name__)\n",
    "\n",
    "\n",
    "dt_model = joblib.load('decision_tree_model.pkl')\n",
    "xgb_model = joblib.load('xgboost_model.pkl')\n",
    "\n",
    "\n",
    "def preprocess_data(data):\n",
    "\n",
    "    columns_to_keep = [col for col in training_columns if col in data.columns]\n",
    "    data = data[columns_to_keep]\n",
    "    housing_mapping = {'own': 3, 'for free': 2, 'rent': 1}\n",
    "    has_been_employed_mapping = {'1 year': 1, '4 years': 4, '7 years': 7, '0 year': 0}\n",
    "    savings_account_mapping = {'Low': 1, 'High': 3, 'Very high': 4, 'Medium': 2}\n",
    "    property_mapping = {'real estate': 3, 'building society savings agreement/life insurance': 2, 'car or other': 1}\n",
    "    loan_history_mapping = {'existing loans paid back duly till now': 2, 'critical/pending loans at other banks': 1, 'no loans taken/all loans paid back duly': 4, 'all loans at this bank paid back duly': 3, 'delay in paying off loans in the past': 0}\n",
    "\n",
    "    data['Housing'] = data['Housing'].map(housing_mapping)\n",
    "    data['Has_been_employed_for_at_least'] = data['Has_been_employed_for_at_least'].map(has_been_employed_mapping)\n",
    "    data['Savings_account_balance'] = data['Savings_account_balance'].map(savings_account_mapping)\n",
    "    data['Property'] = data['Property'].map(property_mapping)\n",
    "    data['Loan_history'] = data['Loan_history'].map(loan_history_mapping)\n",
    "   \n",
    "    data = pd.get_dummies(data_encoded, columns=['Gender', 'Marital_status', 'Purpose'])\n",
    "    \n",
    "    return data\n",
    "\n",
    "@app.route('/predict', methods=['POST'])\n",
    "def predict():\n",
    "    json_data = request.get_json()\n",
    "    df = pd.DataFrame(json_data)\n",
    "    \n",
    "    df_preprocessed = preprocess_data(df)\n",
    "    \n",
    "    predictions_dt = dt_model.predict(df_preprocessed)\n",
    "    predictions_xgb = xgb_model.predict(df_preprocessed)\n",
    "    \n",
    "    return jsonify({'Decision Tree Predictions': predictions_dt.tolist(), 'XGBoost Predictions': predictions_xgb.tolist()})\n",
    "\n",
    "if __name__ == '__main__':\n",
    "    app.run(debug=True)\n",
    "```\n",
    "\n",
    "**b**. **Cloud Platforms**:\n",
    "We can also deploy models using cloud platforms like AWS SageMaker, Google AI Platform, or Azure ML. \n",
    "\n",
    "#### 3. **Preprocessing Unseen Data**\n",
    "\n",
    "When preprocessing unseen data for predictions, we need to follow these steps:\n",
    "\n",
    "**a**. **Drop Unnecessary Columns**:\n",
    "Ensure that only the columns which used during training are present in the new data.\n",
    "\n",
    "\n",
    "**b**. **Encode Categorical Data**:\n",
    "Convert categorical variables into numerical values using techniques one-hot encoding or label encoding.\n",
    "\n",
    "\n",
    "### Summary\n",
    "\n",
    "1. **Export Models**: Use `joblib` or `pickle` to serialize your trained models.\n",
    "2. **Deploy Models**: Use web frameworks or cloud platforms to make your models available for predictions.\n",
    "3. **Preprocess Unseen Data**: Drop unnecessary columns, encode categorical variables, and ensure consistency with the training dataset."
   ]
  }
 ],
 "metadata": {
  "kernelspec": {
   "display_name": "tfenv",
   "language": "python",
   "name": "python3"
  },
  "language_info": {
   "codemirror_mode": {
    "name": "ipython",
    "version": 3
   },
   "file_extension": ".py",
   "mimetype": "text/x-python",
   "name": "python",
   "nbconvert_exporter": "python",
   "pygments_lexer": "ipython3",
   "version": "3.10.2"
  }
 },
 "nbformat": 4,
 "nbformat_minor": 2
}
